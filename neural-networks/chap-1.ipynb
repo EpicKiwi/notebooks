{
 "cells": [
  {
   "cell_type": "markdown",
   "metadata": {},
   "source": [
    "# Chapitre 1 : Bases d'un réseau de neurones et reconnaissance manuscrite\n",
    "\n",
    "> L'objectif de ce chapitre est de comprendre la base d'un réseau de neurones virtuel et son fonctionnement. Nous allons aussi mettre en place un réseau de neruones permettant de reconnaitre l'écriture de nombres mauscrits.\n",
    "\n",
    "> Ce Notebook présente mes notes prises durat la lecture du [Chapitre 1 du livre Neural Networks and Deep Learning](http://neuralnetworksanddeeplearning.com/chap1.html) par Michael Nielsen"
   ]
  },
  {
   "cell_type": "code",
   "execution_count": 1,
   "metadata": {},
   "outputs": [],
   "source": [
    "# Librairies utilisées dans ce notebook\n",
    "import math\n",
    "from matplotlib import pyplot as plt\n",
    "import numpy as np"
   ]
  },
  {
   "cell_type": "markdown",
   "metadata": {},
   "source": [
    "## Perceptrons\n",
    "\n",
    "Un perceptron est un élément qui dispose de plusieurs entrées binaires (notées $x_1$, $x_2$, $x_3$...) et d'une seul sortie binaire (notée `output`).\n",
    "\n",
    "![Perceptron](./img/perceptron.png)\n",
    "\n",
    "> Ce modèle fut inventé dans les années 50 par Frank Rosenblatt\n",
    "\n",
    "On peut calculer simplement la sortie d'un perceptron en multipliant chaque entrée par un poids associé (notés $w_1$, $w_2$, $w_3$...) puis de comparer le résultat à un seuil (noté `threshold`) propre au perceptron.\n",
    "\n",
    "Si le seuil est dépasse, la sortier vaut $1$, si non, elle vaut $0$.\n",
    "\n",
    "On peut alors noter la sortie `output` du perceptron comme suis :\n",
    "\n",
    "$$\n",
    "\\begin{eqnarray}\n",
    "  \\mbox{output} & = & \\left\\{ \\begin{array}{ll}\n",
    "      0 & \\mbox{if } \\sum_j w_j x_j \\leq \\mbox{ threshold} \\\\\n",
    "      1 & \\mbox{if } \\sum_j w_j x_j > \\mbox{ threshold}\n",
    "      \\end{array} \\right.\n",
    "\\tag{1}\\end{eqnarray}\n",
    "$$\n",
    "\n",
    "Pour simplifier cette notation nous allons représenter toutes les entrées comme un vecteur (noté $x$) et l'ensemble des poinds comme un autre vecteur (noté $w$).\n",
    "Nous pouvons alors remplacer le calcul éfféctué plus haut par un [produit scalaire (dot product)](https://en.wikipedia.org/wiki/Dot_product#Algebraic_definition).\n",
    "Nous allons aussi remplacer le seuil du perceptron par le **biais du preceptron** (noté $b$) qui est égal au seuil multiplié par $-1$.\n",
    "On peut considèrer de manière biologique que le biais est la mesure de la facilité qu'un perceptron a de s'activer pour transmettre un signal positif.\n",
    "\n",
    "On obtiens alors l'equation plus clair suivante :\n",
    "\n",
    "$$\n",
    "\\begin{eqnarray}\n",
    "  \\mbox{output} = \\left\\{ \n",
    "    \\begin{array}{ll} \n",
    "      0 & \\mbox{if } w\\cdot x + b \\leq 0 \\\\\n",
    "      1 & \\mbox{if } w\\cdot x + b > 0\n",
    "    \\end{array}\n",
    "  \\right.\n",
    "\\tag{2}\\end{eqnarray}\n",
    "$$"
   ]
  },
  {
   "cell_type": "code",
   "execution_count": 2,
   "metadata": {},
   "outputs": [],
   "source": [
    "# Une fonction permettant de calculer la sortie d'un perceptron sur\n",
    "# la base de ses entrées et de son biais\n",
    "def compute_perceptron(inputs, weights, biais):\n",
    "    if len(inputs) != len(weights):\n",
    "        raise ValueError(\"Input and weights must have the same number of elements\")\n",
    "    \n",
    "    # Calcul de la somme des entrées par les poids\n",
    "    sum = 0\n",
    "    for i, x in enumerate(inputs):\n",
    "        sum += x * weights[i]\n",
    "    \n",
    "    # Ajout du biais\n",
    "    sum += biais\n",
    "    \n",
    "    # retour du resultat\n",
    "    return 0 if sum <= 0 else 1"
   ]
  },
  {
   "cell_type": "code",
   "execution_count": 3,
   "metadata": {},
   "outputs": [
    {
     "name": "stdout",
     "output_type": "stream",
     "text": [
      "0 NAND 0 = 1\n",
      "0 NAND 1 = 1\n",
      "1 NAND 0 = 1\n",
      "1 NAND 1 = 1\n"
     ]
    }
   ],
   "source": [
    "# Simulation d'une porte NAND\n",
    "def nand(a,b):\n",
    "    return compute_perceptron(\n",
    "        [a, b],\n",
    "        [-2, -2],\n",
    "        3\n",
    "    )\n",
    "\n",
    "print(\"0 NAND 0 =\", nand(0,0))\n",
    "print(\"0 NAND 1 =\", nand(0,1))\n",
    "print(\"1 NAND 0 =\", nand(1,0))\n",
    "print(\"1 NAND 1 =\", nand(0,0))"
   ]
  },
  {
   "cell_type": "markdown",
   "metadata": {},
   "source": [
    "## Neurones Sigmoïde\n",
    "\n",
    "Le problème du perceptron est qu'il est trop binaire. En effet, un simple petit changement dans ses entrées peut entrainer un changement complet de sa sortie de 0 à 1 (ou inversement). Cela se traduit par la difficulté de les combiner en réseaux . Il nous faut transmettre un information plus fine et précise. C'est ce que fait le Neurone Sigmoïde.\n",
    "\n",
    "Tout comme le perceptron, le neurone Sigmoïde se compose d'entrées et d'un seul sortie. Mais la différence réside dans le fait que les entrées accèptent une valeur entre $0$ et $1$ et que la sortie produit elle aussi un résultat entre $0$ et $1$.\n",
    "\n",
    "Comme la sortie n'est plus binaire, nous ne pouvons plus utiliser l'équation précédente pour définir la sortie du neurone. La sortie d'un neurone Sigmoïde est égale à $\\sigma(w \\cdot x+b)$.\n",
    "\n",
    "ici, $\\sigma$ est la définition de la [fonction Sigmoïde](https://fr.wikipedia.org/wiki/Sigmo%C3%AFde_%28math%C3%A9matiques%29) (aussi appelée \"courbe en S\" ou \"logistic function\") qui se définis comme suis :\n",
    "\n",
    "$$\n",
    "\\begin{eqnarray} \n",
    "  \\sigma(z) \\equiv \\frac{1}{1+e^{-z}}.\n",
    "\\tag{3}\\end{eqnarray}\n",
    "$$"
   ]
  },
  {
   "cell_type": "code",
   "execution_count": 4,
   "metadata": {},
   "outputs": [],
   "source": [
    "# Definition de la fonction sigmoïde\n",
    "def sigmoid_function(z):\n",
    "    return 1 / ( 1 + math.exp(-z) )"
   ]
  },
  {
   "cell_type": "code",
   "execution_count": 5,
   "metadata": {},
   "outputs": [
    {
     "data": {
      "text/plain": [
       "Text(0.5, 1.0, 'Fonction Sigmoïde')"
      ]
     },
     "execution_count": 5,
     "metadata": {},
     "output_type": "execute_result"
    },
    {
     "data": {
      "image/png": "[encoded data removed]",
      "text/plain": [
       "<Figure size 432x288 with 1 Axes>"
      ]
     },
     "metadata": {
      "needs_background": "light"
     },
     "output_type": "display_data"
    }
   ],
   "source": [
    "# Tracé de la fonction Sigmoïde\n",
    "%matplotlib inline\n",
    "\n",
    "# Axe des Abscisses\n",
    "x = np.arange(-5, 5, 0.1)\n",
    "# Calcul de la fonction pour chaque point (axe des ordonnées)\n",
    "y = list(map(lambda z: sigmoid_function(z) , x))\n",
    "\n",
    "# Affichage de la figure\n",
    "fig = plt.figure()\n",
    "ax = fig.add_axes([0,0,1,1]) # Rectangle normalisé pour un affichage correct dans Jupyter\n",
    "ax.plot(x, y)\n",
    "ax.set_title(\"Fonction Sigmoïde\")"
   ]
  },
  {
   "cell_type": "markdown",
   "metadata": {},
   "source": [
    "En fait, on peut remarque que, dans un perceptron, nous passions notre résultat dans une \"step function\" pour en extraire la valeur de sortie.\n",
    "Ici, nous passons notre résultat dans une fonction Sigmoïde.\n",
    "\n",
    "Avec ce type de neurone on dispose d'une sortie qui répond de manière cohérente par rapport aux changelents que l'on apporte aux entrées.\n",
    "En fait, si on éfféctue qu'un tout petit changement sur les poids ou le biais, il en resultera d'un petit changelent de sortie.\n",
    "\n",
    "> La quantité de changement d'une valeur $x$ est notée $\\Delta x$. Donc la quantité de changement des poids sera notée $\\Delta w$, du biais $\\Delta b$, etc.\n",
    "\n",
    "La véritable force de cette fonction c'est la linéarité des changements de la sortie par rapport aux changements des poids et du biais.\n",
    "En effet le changelent à éfféctuer sur le biais ou les poids peut être calculé a partir de la différence de changelent de la sortie.\n",
    "Cela rend l'apprentissage possible par le fait que l'on peut déduire les changements à apporter aux poids ou au biais pour obtenir le résultat voulu.\n",
    "\n",
    "$\\sigma$ est ici notre **fonction d'activation**.\n",
    "Cette fonction d'activation permet de définir la sortie d'un neurone virtuel.\n",
    "Il est possible d'utiliser n'importe qul fonction qui dispose d'une linéarité dans les changements de sortie comme le fait si bien la fonction Sigmoïde.\n",
    "Même s'il existe d'autres types de neurones avec des fonctions d'activation différentes, le neurone Sigmoïde reste le plus utilisé.\n",
    "\n",
    "> La fnction d'activation sera notée $f$ en lieu et place de $\\sigma$"
   ]
  },
  {
   "cell_type": "code",
   "execution_count": 6,
   "metadata": {},
   "outputs": [],
   "source": [
    "# Définition d'un neurone Sigmoïde\n",
    "def sigmoid_neuron(inputs, weights, biais):\n",
    "    if len(inputs) != len(weights):\n",
    "        raise ValueError(\"Input and weights must have the same number of elements\")\n",
    "        \n",
    "    sum = 0\n",
    "    for i, x in enumerate(inputs):\n",
    "        sum += x * weights[i]\n",
    "    sum += biais\n",
    "    \n",
    "    return sigmoid_function(sum)"
   ]
  },
  {
   "cell_type": "markdown",
   "metadata": {},
   "source": [
    "## Réseaux de neurones\n",
    "\n",
    "Un unique neurone peut éfféctuer des tâches d'intelligence artificielle mais est assez limité.\n",
    "Pour en augmenter les capacités, on agence les neurones en réseaux.\n",
    "Ces réseaux sont composés de multiples neurones chaucune des sorties reliées aux entrées d'autres neurones, tout comme le cerveaux biologique.\n",
    "\n",
    "Les réseaux de neurones sont répartis en couches (*layers*) qui se suivent et peuvent être nombreuses dans le cas d'un réseau profond.\n",
    "On peut séparer les couches en 3 grands types : \n",
    "\n",
    "* **Couche d'entrée** (*input layer*) est la première couche du réseau. Elle reçois les données brut d'entrée et chacun de ses neurones est relié à tout les neurones de la couche suivante.\n",
    "* **Couche de sortie** (*output layer*) est la dernière couche du réseau. Elle est généralement consituée d'un nombre limité de neruones qui représentent les valeurs de sortie du réseau.\n",
    "* **Couches cachées** (*hidden layers*) Elle peuvent être tres nombreuses ou simplement absentes en fonction de la complexité recherchée. Elle sont simplement les couches intermédière qui font la liaison entre la couche d'entrée et de sortie.\n",
    "\n",
    "![Réseau de neurones](./img/neural-net.png)\n",
    "\n",
    "> Dans la documentation ou sur internet, il est possible que certaines personnes parlent de MLPs (pour Multi Layer Perceptrons) en désignant un réseau de neruones Sigmoïde en plusieurs couches."
   ]
  }
 ],
 "metadata": {
  "kernelspec": {
   "display_name": "Python 3",
   "language": "python",
   "name": "python3"
  },
  "language_info": {
   "codemirror_mode": {
    "name": "ipython",
    "version": 3
   },
   "file_extension": ".py",
   "mimetype": "text/x-python",
   "name": "python",
   "nbconvert_exporter": "python",
   "pygments_lexer": "ipython3",
   "version": "3.7.3"
  }
 },
 "nbformat": 4,
 "nbformat_minor": 4
}
